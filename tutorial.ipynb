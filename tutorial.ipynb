{
  "cells": [
    {
      "cell_type": "markdown",
      "metadata": {
        "colab_type": "text",
        "id": "view-in-github"
      },
      "source": [
        "<a href=\"https://colab.research.google.com/github/m-nasiri/zsl/blob/master/tutorial.ipynb\" target=\"_parent\"><img src=\"https://colab.research.google.com/assets/colab-badge.svg\" alt=\"Open In Colab\"/></a>"
      ]
    },
    {
      "cell_type": "code",
      "execution_count": 1,
      "metadata": {
        "colab": {
          "base_uri": "https://localhost:8080/"
        },
        "id": "5ucZCXT8NDp-",
        "outputId": "428e33b7-1993-4435-f68d-d021469ed9c3"
      },
      "outputs": [
        {
          "name": "stdout",
          "output_type": "stream",
          "text": [
            "hello colab\n"
          ]
        }
      ],
      "source": [
        "%cd /content \n",
        "!rm -r zslB\n",
        "!git clone https://github.com/majnas/WGSS_ZSL_3D_Point_Cloud zslA # clone repo\n",
        "%cd zslA\n",
        "%pip install -qr requirements.txt  # install dependencies\n",
        "\n",
        "import torch\n",
        "from IPython.display import Image, clear_output  # to display images\n",
        "\n",
        "#clear_output()\n",
        "print(f\"Setup complete. Using torch {torch.__version__} ({torch.cuda.get_device_properties(0).name if torch.cuda.is_available() else 'CPU'})\")\n",
        "!pip uninstall tensorflow -y"
      ]
    },
    {
      "cell_type": "markdown",
      "metadata": {},
      "source": [
        "# This block is for creating text embeddings\n",
        "# create texts\n",
        "!python src/maketexts.py --class_path ./data/ModelNet/modelnet40_shape_names.txt --pattern_path ./data/patterns.txt --txt_embedding_path ./data/texts.txt\n",
        "# create embeddings for texts\n",
        "!python src/bert.py --texts_path ./data/texts.txt"
      ]
    },
    {
      "cell_type": "code",
      "execution_count": null,
      "metadata": {},
      "outputs": [],
      "source": [
        "# This block is for tunning transductive models\n",
        "!python tunning_inductive.py --config_path ./configs/pointnet/pointnet_scanobjectnn.yaml --dataset_eval ScanObjectNN --backbone PointNet --alpha_sceneaug 0.9 --bs 100"
      ]
    }
  ],
  "metadata": {
    "colab": {
      "authorship_tag": "ABX9TyOUfLDc3kbmZUcbtFrS5UNA",
      "include_colab_link": true,
      "name": "Untitled0.ipynb",
      "provenance": []
    },
    "kernelspec": {
      "display_name": "Python 3",
      "name": "python3"
    },
    "language_info": {
      "name": "python"
    }
  },
  "nbformat": 4,
  "nbformat_minor": 2
}
